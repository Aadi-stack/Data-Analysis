{
 "cells": [
  {
   "cell_type": "code",
   "execution_count": 1,
   "id": "ffa0aaca",
   "metadata": {
    "_cell_guid": "b1076dfc-b9ad-4769-8c92-a6c4dae69d19",
    "_uuid": "8f2839f25d086af736a60e9eeb907d3b93b6e0e5",
    "execution": {
     "iopub.execute_input": "2022-10-12T13:38:14.844842Z",
     "iopub.status.busy": "2022-10-12T13:38:14.844284Z",
     "iopub.status.idle": "2022-10-12T13:38:14.862611Z",
     "shell.execute_reply": "2022-10-12T13:38:14.861328Z"
    },
    "papermill": {
     "duration": 0.03486,
     "end_time": "2022-10-12T13:38:14.865457",
     "exception": false,
     "start_time": "2022-10-12T13:38:14.830597",
     "status": "completed"
    },
    "tags": []
   },
   "outputs": [
    {
     "name": "stdout",
     "output_type": "stream",
     "text": [
      "/kaggle/input/indian-startup-funding/startup_funding.csv\n"
     ]
    }
   ],
   "source": [
    "# This Python 3 environment comes with many helpful analytics libraries installed\n",
    "# It is defined by the kaggle/python Docker image: https://github.com/kaggle/docker-python\n",
    "# For example, here's several helpful packages to load\n",
    "\n",
    "import numpy as np # linear algebra\n",
    "import pandas as pd # data processing, CSV file I/O (e.g. pd.read_csv)\n",
    "\n",
    "# Input data files are available in the read-only \"../input/\" directory\n",
    "# For example, running this (by clicking run or pressing Shift+Enter) will list all files under the input directory\n",
    "\n",
    "import os\n",
    "for dirname, _, filenames in os.walk('/kaggle/input'):\n",
    "    for filename in filenames:\n",
    "        print(os.path.join(dirname, filename))\n",
    "\n",
    "# You can write up to 20GB to the current directory (/kaggle/working/) that gets preserved as output when you create a version using \"Save & Run All\" \n",
    "# You can also write temporary files to /kaggle/temp/, but they won't be saved outside of the current session"
   ]
  },
  {
   "cell_type": "code",
   "execution_count": 2,
   "id": "29ef2095",
   "metadata": {
    "execution": {
     "iopub.execute_input": "2022-10-12T13:38:14.887502Z",
     "iopub.status.busy": "2022-10-12T13:38:14.886522Z",
     "iopub.status.idle": "2022-10-12T13:38:16.009124Z",
     "shell.execute_reply": "2022-10-12T13:38:16.007551Z"
    },
    "papermill": {
     "duration": 1.136538,
     "end_time": "2022-10-12T13:38:16.011938",
     "exception": false,
     "start_time": "2022-10-12T13:38:14.875400",
     "status": "completed"
    },
    "tags": []
   },
   "outputs": [],
   "source": [
    "import numpy as np \n",
    "import pandas as pd \n",
    "import seaborn as sns\n",
    "import matplotlib.pyplot as plt\n",
    "import missingno as msno\n",
    "import squarify\n"
   ]
  },
  {
   "cell_type": "code",
   "execution_count": 3,
   "id": "9bcccd01",
   "metadata": {
    "execution": {
     "iopub.execute_input": "2022-10-12T13:38:16.036271Z",
     "iopub.status.busy": "2022-10-12T13:38:16.035815Z",
     "iopub.status.idle": "2022-10-12T13:38:16.100264Z",
     "shell.execute_reply": "2022-10-12T13:38:16.098538Z"
    },
    "papermill": {
     "duration": 0.080242,
     "end_time": "2022-10-12T13:38:16.103516",
     "exception": false,
     "start_time": "2022-10-12T13:38:16.023274",
     "status": "completed"
    },
    "tags": []
   },
   "outputs": [
    {
     "data": {
      "text/html": [
       "<div>\n",
       "<style scoped>\n",
       "    .dataframe tbody tr th:only-of-type {\n",
       "        vertical-align: middle;\n",
       "    }\n",
       "\n",
       "    .dataframe tbody tr th {\n",
       "        vertical-align: top;\n",
       "    }\n",
       "\n",
       "    .dataframe thead th {\n",
       "        text-align: right;\n",
       "    }\n",
       "</style>\n",
       "<table border=\"1\" class=\"dataframe\">\n",
       "  <thead>\n",
       "    <tr style=\"text-align: right;\">\n",
       "      <th></th>\n",
       "      <th>Sr No</th>\n",
       "      <th>Date dd/mm/yyyy</th>\n",
       "      <th>Startup Name</th>\n",
       "      <th>Industry Vertical</th>\n",
       "      <th>SubVertical</th>\n",
       "      <th>City  Location</th>\n",
       "      <th>Investors Name</th>\n",
       "      <th>InvestmentnType</th>\n",
       "      <th>Amount in USD</th>\n",
       "      <th>Remarks</th>\n",
       "    </tr>\n",
       "  </thead>\n",
       "  <tbody>\n",
       "    <tr>\n",
       "      <th>0</th>\n",
       "      <td>1</td>\n",
       "      <td>09/01/2020</td>\n",
       "      <td>BYJU’S</td>\n",
       "      <td>E-Tech</td>\n",
       "      <td>E-learning</td>\n",
       "      <td>Bengaluru</td>\n",
       "      <td>Tiger Global Management</td>\n",
       "      <td>Private Equity Round</td>\n",
       "      <td>20,00,00,000</td>\n",
       "      <td>NaN</td>\n",
       "    </tr>\n",
       "    <tr>\n",
       "      <th>1</th>\n",
       "      <td>2</td>\n",
       "      <td>13/01/2020</td>\n",
       "      <td>Shuttl</td>\n",
       "      <td>Transportation</td>\n",
       "      <td>App based shuttle service</td>\n",
       "      <td>Gurgaon</td>\n",
       "      <td>Susquehanna Growth Equity</td>\n",
       "      <td>Series C</td>\n",
       "      <td>80,48,394</td>\n",
       "      <td>NaN</td>\n",
       "    </tr>\n",
       "    <tr>\n",
       "      <th>2</th>\n",
       "      <td>3</td>\n",
       "      <td>09/01/2020</td>\n",
       "      <td>Mamaearth</td>\n",
       "      <td>E-commerce</td>\n",
       "      <td>Retailer of baby and toddler products</td>\n",
       "      <td>Bengaluru</td>\n",
       "      <td>Sequoia Capital India</td>\n",
       "      <td>Series B</td>\n",
       "      <td>1,83,58,860</td>\n",
       "      <td>NaN</td>\n",
       "    </tr>\n",
       "    <tr>\n",
       "      <th>3</th>\n",
       "      <td>4</td>\n",
       "      <td>02/01/2020</td>\n",
       "      <td>https://www.wealthbucket.in/</td>\n",
       "      <td>FinTech</td>\n",
       "      <td>Online Investment</td>\n",
       "      <td>New Delhi</td>\n",
       "      <td>Vinod Khatumal</td>\n",
       "      <td>Pre-series A</td>\n",
       "      <td>30,00,000</td>\n",
       "      <td>NaN</td>\n",
       "    </tr>\n",
       "    <tr>\n",
       "      <th>4</th>\n",
       "      <td>5</td>\n",
       "      <td>02/01/2020</td>\n",
       "      <td>Fashor</td>\n",
       "      <td>Fashion and Apparel</td>\n",
       "      <td>Embroiled Clothes For Women</td>\n",
       "      <td>Mumbai</td>\n",
       "      <td>Sprout Venture Partners</td>\n",
       "      <td>Seed Round</td>\n",
       "      <td>18,00,000</td>\n",
       "      <td>NaN</td>\n",
       "    </tr>\n",
       "  </tbody>\n",
       "</table>\n",
       "</div>"
      ],
      "text/plain": [
       "   Sr No Date dd/mm/yyyy                  Startup Name    Industry Vertical  \\\n",
       "0      1      09/01/2020                        BYJU’S               E-Tech   \n",
       "1      2      13/01/2020                        Shuttl       Transportation   \n",
       "2      3      09/01/2020                     Mamaearth           E-commerce   \n",
       "3      4      02/01/2020  https://www.wealthbucket.in/              FinTech   \n",
       "4      5      02/01/2020                        Fashor  Fashion and Apparel   \n",
       "\n",
       "                             SubVertical City  Location  \\\n",
       "0                             E-learning      Bengaluru   \n",
       "1              App based shuttle service        Gurgaon   \n",
       "2  Retailer of baby and toddler products      Bengaluru   \n",
       "3                      Online Investment      New Delhi   \n",
       "4            Embroiled Clothes For Women         Mumbai   \n",
       "\n",
       "              Investors Name       InvestmentnType Amount in USD Remarks  \n",
       "0    Tiger Global Management  Private Equity Round  20,00,00,000     NaN  \n",
       "1  Susquehanna Growth Equity              Series C     80,48,394     NaN  \n",
       "2      Sequoia Capital India              Series B   1,83,58,860     NaN  \n",
       "3             Vinod Khatumal          Pre-series A     30,00,000     NaN  \n",
       "4    Sprout Venture Partners            Seed Round     18,00,000     NaN  "
      ]
     },
     "execution_count": 3,
     "metadata": {},
     "output_type": "execute_result"
    }
   ],
   "source": [
    "data=pd.read_csv('../input/indian-startup-funding/startup_funding.csv')\n",
    "data.head()"
   ]
  },
  {
   "cell_type": "code",
   "execution_count": 4,
   "id": "41aeb3bd",
   "metadata": {
    "execution": {
     "iopub.execute_input": "2022-10-12T13:38:16.128303Z",
     "iopub.status.busy": "2022-10-12T13:38:16.127817Z",
     "iopub.status.idle": "2022-10-12T13:38:16.135662Z",
     "shell.execute_reply": "2022-10-12T13:38:16.134485Z"
    },
    "papermill": {
     "duration": 0.021829,
     "end_time": "2022-10-12T13:38:16.138016",
     "exception": false,
     "start_time": "2022-10-12T13:38:16.116187",
     "status": "completed"
    },
    "tags": []
   },
   "outputs": [
    {
     "data": {
      "text/plain": [
       "(3044, 10)"
      ]
     },
     "execution_count": 4,
     "metadata": {},
     "output_type": "execute_result"
    }
   ],
   "source": [
    "data.shape"
   ]
  },
  {
   "cell_type": "code",
   "execution_count": 5,
   "id": "1b6b7204",
   "metadata": {
    "execution": {
     "iopub.execute_input": "2022-10-12T13:38:16.162975Z",
     "iopub.status.busy": "2022-10-12T13:38:16.162427Z",
     "iopub.status.idle": "2022-10-12T13:38:16.182608Z",
     "shell.execute_reply": "2022-10-12T13:38:16.181626Z"
    },
    "papermill": {
     "duration": 0.036241,
     "end_time": "2022-10-12T13:38:16.185809",
     "exception": false,
     "start_time": "2022-10-12T13:38:16.149568",
     "status": "completed"
    },
    "tags": []
   },
   "outputs": [],
   "source": [
    "data=data.rename(columns={\"Date dd/mm/yyyy\":\"Date\"})\n",
    "data=data.rename(columns={\"Startup Name\":\"StartupName\"})\n",
    "data=data.rename(columns={\"Industry Vertical\":\"Industry\"})\n",
    "data=data.rename(columns={\"SubVertical\":\"Sub_Industry\"})\n",
    "data=data.rename(columns={\"City  Location\":\"Location\"})\n",
    "data=data.rename(columns={\"Investors Name\":\"Investor\"})\n",
    "data=data.rename(columns={\"InvestmentnType\":\"Investment_Type\"})\n",
    "data=data.rename(columns={\"Amount in USD\":\"Amount_in_USD\"})\n"
   ]
  },
  {
   "cell_type": "code",
   "execution_count": 6,
   "id": "356d6453",
   "metadata": {
    "execution": {
     "iopub.execute_input": "2022-10-12T13:38:16.221335Z",
     "iopub.status.busy": "2022-10-12T13:38:16.220535Z",
     "iopub.status.idle": "2022-10-12T13:38:16.244997Z",
     "shell.execute_reply": "2022-10-12T13:38:16.243540Z"
    },
    "papermill": {
     "duration": 0.044051,
     "end_time": "2022-10-12T13:38:16.247647",
     "exception": false,
     "start_time": "2022-10-12T13:38:16.203596",
     "status": "completed"
    },
    "tags": []
   },
   "outputs": [
    {
     "name": "stdout",
     "output_type": "stream",
     "text": [
      "<class 'pandas.core.frame.DataFrame'>\n",
      "RangeIndex: 3044 entries, 0 to 3043\n",
      "Data columns (total 10 columns):\n",
      " #   Column           Non-Null Count  Dtype \n",
      "---  ------           --------------  ----- \n",
      " 0   Sr No            3044 non-null   int64 \n",
      " 1   Date             3044 non-null   object\n",
      " 2   StartupName      3044 non-null   object\n",
      " 3   Industry         2873 non-null   object\n",
      " 4   Sub_Industry     2108 non-null   object\n",
      " 5   Location         2864 non-null   object\n",
      " 6   Investor         3020 non-null   object\n",
      " 7   Investment_Type  3040 non-null   object\n",
      " 8   Amount_in_USD    2084 non-null   object\n",
      " 9   Remarks          419 non-null    object\n",
      "dtypes: int64(1), object(9)\n",
      "memory usage: 237.9+ KB\n"
     ]
    }
   ],
   "source": [
    "data.info()"
   ]
  },
  {
   "cell_type": "code",
   "execution_count": 7,
   "id": "2aaab949",
   "metadata": {
    "execution": {
     "iopub.execute_input": "2022-10-12T13:38:16.275151Z",
     "iopub.status.busy": "2022-10-12T13:38:16.274207Z",
     "iopub.status.idle": "2022-10-12T13:38:16.293697Z",
     "shell.execute_reply": "2022-10-12T13:38:16.292410Z"
    },
    "papermill": {
     "duration": 0.037568,
     "end_time": "2022-10-12T13:38:16.296983",
     "exception": false,
     "start_time": "2022-10-12T13:38:16.259415",
     "status": "completed"
    },
    "tags": []
   },
   "outputs": [
    {
     "data": {
      "text/html": [
       "<div>\n",
       "<style scoped>\n",
       "    .dataframe tbody tr th:only-of-type {\n",
       "        vertical-align: middle;\n",
       "    }\n",
       "\n",
       "    .dataframe tbody tr th {\n",
       "        vertical-align: top;\n",
       "    }\n",
       "\n",
       "    .dataframe thead th {\n",
       "        text-align: right;\n",
       "    }\n",
       "</style>\n",
       "<table border=\"1\" class=\"dataframe\">\n",
       "  <thead>\n",
       "    <tr style=\"text-align: right;\">\n",
       "      <th></th>\n",
       "      <th>Sr No</th>\n",
       "      <th>Date</th>\n",
       "      <th>StartupName</th>\n",
       "      <th>Industry</th>\n",
       "      <th>Sub_Industry</th>\n",
       "      <th>Location</th>\n",
       "      <th>Investor</th>\n",
       "      <th>Investment_Type</th>\n",
       "      <th>Amount_in_USD</th>\n",
       "      <th>Remarks</th>\n",
       "    </tr>\n",
       "  </thead>\n",
       "  <tbody>\n",
       "    <tr>\n",
       "      <th>3039</th>\n",
       "      <td>3040</td>\n",
       "      <td>29/01/2015</td>\n",
       "      <td>Printvenue</td>\n",
       "      <td>NaN</td>\n",
       "      <td>NaN</td>\n",
       "      <td>NaN</td>\n",
       "      <td>Asia Pacific Internet Group</td>\n",
       "      <td>Private Equity</td>\n",
       "      <td>45,00,000</td>\n",
       "      <td>NaN</td>\n",
       "    </tr>\n",
       "    <tr>\n",
       "      <th>3040</th>\n",
       "      <td>3041</td>\n",
       "      <td>29/01/2015</td>\n",
       "      <td>Graphene</td>\n",
       "      <td>NaN</td>\n",
       "      <td>NaN</td>\n",
       "      <td>NaN</td>\n",
       "      <td>KARSEMVEN Fund</td>\n",
       "      <td>Private Equity</td>\n",
       "      <td>8,25,000</td>\n",
       "      <td>Govt backed VC Fund</td>\n",
       "    </tr>\n",
       "    <tr>\n",
       "      <th>3041</th>\n",
       "      <td>3042</td>\n",
       "      <td>30/01/2015</td>\n",
       "      <td>Mad Street Den</td>\n",
       "      <td>NaN</td>\n",
       "      <td>NaN</td>\n",
       "      <td>NaN</td>\n",
       "      <td>Exfinity Fund, GrowX Ventures.</td>\n",
       "      <td>Private Equity</td>\n",
       "      <td>15,00,000</td>\n",
       "      <td>NaN</td>\n",
       "    </tr>\n",
       "    <tr>\n",
       "      <th>3042</th>\n",
       "      <td>3043</td>\n",
       "      <td>30/01/2015</td>\n",
       "      <td>Simplotel</td>\n",
       "      <td>NaN</td>\n",
       "      <td>NaN</td>\n",
       "      <td>NaN</td>\n",
       "      <td>MakeMyTrip</td>\n",
       "      <td>Private Equity</td>\n",
       "      <td>NaN</td>\n",
       "      <td>Strategic Funding, Minority stake</td>\n",
       "    </tr>\n",
       "    <tr>\n",
       "      <th>3043</th>\n",
       "      <td>3044</td>\n",
       "      <td>31/01/2015</td>\n",
       "      <td>couponmachine.in</td>\n",
       "      <td>NaN</td>\n",
       "      <td>NaN</td>\n",
       "      <td>NaN</td>\n",
       "      <td>UK based Group of Angel Investors</td>\n",
       "      <td>Seed Funding</td>\n",
       "      <td>1,40,000</td>\n",
       "      <td>NaN</td>\n",
       "    </tr>\n",
       "  </tbody>\n",
       "</table>\n",
       "</div>"
      ],
      "text/plain": [
       "      Sr No        Date       StartupName Industry Sub_Industry Location  \\\n",
       "3039   3040  29/01/2015        Printvenue      NaN          NaN      NaN   \n",
       "3040   3041  29/01/2015          Graphene      NaN          NaN      NaN   \n",
       "3041   3042  30/01/2015    Mad Street Den      NaN          NaN      NaN   \n",
       "3042   3043  30/01/2015         Simplotel      NaN          NaN      NaN   \n",
       "3043   3044  31/01/2015  couponmachine.in      NaN          NaN      NaN   \n",
       "\n",
       "                               Investor Investment_Type Amount_in_USD  \\\n",
       "3039        Asia Pacific Internet Group  Private Equity     45,00,000   \n",
       "3040                     KARSEMVEN Fund  Private Equity      8,25,000   \n",
       "3041     Exfinity Fund, GrowX Ventures.  Private Equity     15,00,000   \n",
       "3042                         MakeMyTrip  Private Equity           NaN   \n",
       "3043  UK based Group of Angel Investors    Seed Funding      1,40,000   \n",
       "\n",
       "                                Remarks  \n",
       "3039                                NaN  \n",
       "3040                Govt backed VC Fund  \n",
       "3041                                NaN  \n",
       "3042  Strategic Funding, Minority stake  \n",
       "3043                                NaN  "
      ]
     },
     "execution_count": 7,
     "metadata": {},
     "output_type": "execute_result"
    }
   ],
   "source": [
    "data.tail()"
   ]
  },
  {
   "cell_type": "code",
   "execution_count": 8,
   "id": "50af70a9",
   "metadata": {
    "execution": {
     "iopub.execute_input": "2022-10-12T13:38:16.322668Z",
     "iopub.status.busy": "2022-10-12T13:38:16.321600Z",
     "iopub.status.idle": "2022-10-12T13:38:16.332103Z",
     "shell.execute_reply": "2022-10-12T13:38:16.330925Z"
    },
    "papermill": {
     "duration": 0.026061,
     "end_time": "2022-10-12T13:38:16.334687",
     "exception": false,
     "start_time": "2022-10-12T13:38:16.308626",
     "status": "completed"
    },
    "tags": []
   },
   "outputs": [
    {
     "data": {
      "text/plain": [
       "Series A                             175\n",
       "Series B                              63\n",
       "Pre-Series A                          37\n",
       "Series C                              28\n",
       "Series D                              11\n",
       "                                    ... \n",
       "Pre Series-A                           1\n",
       "QPrize Contest Winners                 1\n",
       "pre-series A                           1\n",
       "Personal Investment                    1\n",
       "Strategic Funding, Minority stake      1\n",
       "Name: Remarks, Length: 72, dtype: int64"
      ]
     },
     "execution_count": 8,
     "metadata": {},
     "output_type": "execute_result"
    }
   ],
   "source": [
    "data['Remarks'].value_counts()"
   ]
  },
  {
   "cell_type": "code",
   "execution_count": 9,
   "id": "d5b7ee79",
   "metadata": {
    "execution": {
     "iopub.execute_input": "2022-10-12T13:38:16.361294Z",
     "iopub.status.busy": "2022-10-12T13:38:16.360494Z",
     "iopub.status.idle": "2022-10-12T13:38:16.385337Z",
     "shell.execute_reply": "2022-10-12T13:38:16.384122Z"
    },
    "papermill": {
     "duration": 0.040101,
     "end_time": "2022-10-12T13:38:16.387878",
     "exception": false,
     "start_time": "2022-10-12T13:38:16.347777",
     "status": "completed"
    },
    "tags": []
   },
   "outputs": [
    {
     "data": {
      "text/html": [
       "<div>\n",
       "<style scoped>\n",
       "    .dataframe tbody tr th:only-of-type {\n",
       "        vertical-align: middle;\n",
       "    }\n",
       "\n",
       "    .dataframe tbody tr th {\n",
       "        vertical-align: top;\n",
       "    }\n",
       "\n",
       "    .dataframe thead th {\n",
       "        text-align: right;\n",
       "    }\n",
       "</style>\n",
       "<table border=\"1\" class=\"dataframe\">\n",
       "  <thead>\n",
       "    <tr style=\"text-align: right;\">\n",
       "      <th></th>\n",
       "      <th>Total</th>\n",
       "      <th>Percent %</th>\n",
       "    </tr>\n",
       "  </thead>\n",
       "  <tbody>\n",
       "    <tr>\n",
       "      <th>Remarks</th>\n",
       "      <td>2625</td>\n",
       "      <td>86.235217</td>\n",
       "    </tr>\n",
       "    <tr>\n",
       "      <th>Amount_in_USD</th>\n",
       "      <td>960</td>\n",
       "      <td>31.537451</td>\n",
       "    </tr>\n",
       "    <tr>\n",
       "      <th>Sub_Industry</th>\n",
       "      <td>936</td>\n",
       "      <td>30.749014</td>\n",
       "    </tr>\n",
       "    <tr>\n",
       "      <th>Location</th>\n",
       "      <td>180</td>\n",
       "      <td>5.913272</td>\n",
       "    </tr>\n",
       "    <tr>\n",
       "      <th>Industry</th>\n",
       "      <td>171</td>\n",
       "      <td>5.617608</td>\n",
       "    </tr>\n",
       "  </tbody>\n",
       "</table>\n",
       "</div>"
      ],
      "text/plain": [
       "               Total  Percent %\n",
       "Remarks         2625  86.235217\n",
       "Amount_in_USD    960  31.537451\n",
       "Sub_Industry     936  30.749014\n",
       "Location         180   5.913272\n",
       "Industry         171   5.617608"
      ]
     },
     "execution_count": 9,
     "metadata": {},
     "output_type": "execute_result"
    }
   ],
   "source": [
    "total = data.isnull().sum().sort_values(ascending = False)\n",
    "percent = ((data.isnull().sum()/data.isnull().count())*100).sort_values(ascending = False)\n",
    "missing_data = pd.concat([total, percent], axis=1, keys=['Total', 'Percent %'])\n",
    "missing_data.head()"
   ]
  },
  {
   "cell_type": "code",
   "execution_count": 10,
   "id": "31448b38",
   "metadata": {
    "execution": {
     "iopub.execute_input": "2022-10-12T13:38:16.412341Z",
     "iopub.status.busy": "2022-10-12T13:38:16.411508Z",
     "iopub.status.idle": "2022-10-12T13:38:16.428307Z",
     "shell.execute_reply": "2022-10-12T13:38:16.426991Z"
    },
    "papermill": {
     "duration": 0.031792,
     "end_time": "2022-10-12T13:38:16.430772",
     "exception": false,
     "start_time": "2022-10-12T13:38:16.398980",
     "status": "completed"
    },
    "tags": []
   },
   "outputs": [
    {
     "data": {
      "text/html": [
       "<div>\n",
       "<style scoped>\n",
       "    .dataframe tbody tr th:only-of-type {\n",
       "        vertical-align: middle;\n",
       "    }\n",
       "\n",
       "    .dataframe tbody tr th {\n",
       "        vertical-align: top;\n",
       "    }\n",
       "\n",
       "    .dataframe thead th {\n",
       "        text-align: right;\n",
       "    }\n",
       "</style>\n",
       "<table border=\"1\" class=\"dataframe\">\n",
       "  <thead>\n",
       "    <tr style=\"text-align: right;\">\n",
       "      <th></th>\n",
       "      <th>Sr No</th>\n",
       "      <th>Date</th>\n",
       "      <th>StartupName</th>\n",
       "      <th>Industry</th>\n",
       "      <th>Sub_Industry</th>\n",
       "      <th>Location</th>\n",
       "      <th>Investor</th>\n",
       "      <th>Investment_Type</th>\n",
       "      <th>Amount_in_USD</th>\n",
       "    </tr>\n",
       "  </thead>\n",
       "  <tbody>\n",
       "    <tr>\n",
       "      <th>0</th>\n",
       "      <td>1</td>\n",
       "      <td>09/01/2020</td>\n",
       "      <td>BYJU’S</td>\n",
       "      <td>E-Tech</td>\n",
       "      <td>E-learning</td>\n",
       "      <td>Bengaluru</td>\n",
       "      <td>Tiger Global Management</td>\n",
       "      <td>Private Equity Round</td>\n",
       "      <td>20,00,00,000</td>\n",
       "    </tr>\n",
       "    <tr>\n",
       "      <th>1</th>\n",
       "      <td>2</td>\n",
       "      <td>13/01/2020</td>\n",
       "      <td>Shuttl</td>\n",
       "      <td>Transportation</td>\n",
       "      <td>App based shuttle service</td>\n",
       "      <td>Gurgaon</td>\n",
       "      <td>Susquehanna Growth Equity</td>\n",
       "      <td>Series C</td>\n",
       "      <td>80,48,394</td>\n",
       "    </tr>\n",
       "    <tr>\n",
       "      <th>2</th>\n",
       "      <td>3</td>\n",
       "      <td>09/01/2020</td>\n",
       "      <td>Mamaearth</td>\n",
       "      <td>E-commerce</td>\n",
       "      <td>Retailer of baby and toddler products</td>\n",
       "      <td>Bengaluru</td>\n",
       "      <td>Sequoia Capital India</td>\n",
       "      <td>Series B</td>\n",
       "      <td>1,83,58,860</td>\n",
       "    </tr>\n",
       "    <tr>\n",
       "      <th>3</th>\n",
       "      <td>4</td>\n",
       "      <td>02/01/2020</td>\n",
       "      <td>https://www.wealthbucket.in/</td>\n",
       "      <td>FinTech</td>\n",
       "      <td>Online Investment</td>\n",
       "      <td>New Delhi</td>\n",
       "      <td>Vinod Khatumal</td>\n",
       "      <td>Pre-series A</td>\n",
       "      <td>30,00,000</td>\n",
       "    </tr>\n",
       "    <tr>\n",
       "      <th>4</th>\n",
       "      <td>5</td>\n",
       "      <td>02/01/2020</td>\n",
       "      <td>Fashor</td>\n",
       "      <td>Fashion and Apparel</td>\n",
       "      <td>Embroiled Clothes For Women</td>\n",
       "      <td>Mumbai</td>\n",
       "      <td>Sprout Venture Partners</td>\n",
       "      <td>Seed Round</td>\n",
       "      <td>18,00,000</td>\n",
       "    </tr>\n",
       "  </tbody>\n",
       "</table>\n",
       "</div>"
      ],
      "text/plain": [
       "   Sr No        Date                   StartupName             Industry  \\\n",
       "0      1  09/01/2020                        BYJU’S               E-Tech   \n",
       "1      2  13/01/2020                        Shuttl       Transportation   \n",
       "2      3  09/01/2020                     Mamaearth           E-commerce   \n",
       "3      4  02/01/2020  https://www.wealthbucket.in/              FinTech   \n",
       "4      5  02/01/2020                        Fashor  Fashion and Apparel   \n",
       "\n",
       "                            Sub_Industry   Location  \\\n",
       "0                             E-learning  Bengaluru   \n",
       "1              App based shuttle service    Gurgaon   \n",
       "2  Retailer of baby and toddler products  Bengaluru   \n",
       "3                      Online Investment  New Delhi   \n",
       "4            Embroiled Clothes For Women     Mumbai   \n",
       "\n",
       "                    Investor       Investment_Type Amount_in_USD  \n",
       "0    Tiger Global Management  Private Equity Round  20,00,00,000  \n",
       "1  Susquehanna Growth Equity              Series C     80,48,394  \n",
       "2      Sequoia Capital India              Series B   1,83,58,860  \n",
       "3             Vinod Khatumal          Pre-series A     30,00,000  \n",
       "4    Sprout Venture Partners            Seed Round     18,00,000  "
      ]
     },
     "execution_count": 10,
     "metadata": {},
     "output_type": "execute_result"
    }
   ],
   "source": [
    "del data[\"Remarks\"]\n",
    "data.head()"
   ]
  },
  {
   "cell_type": "code",
   "execution_count": 11,
   "id": "a6d03f42",
   "metadata": {
    "execution": {
     "iopub.execute_input": "2022-10-12T13:38:16.455824Z",
     "iopub.status.busy": "2022-10-12T13:38:16.454968Z",
     "iopub.status.idle": "2022-10-12T13:38:16.467226Z",
     "shell.execute_reply": "2022-10-12T13:38:16.465910Z"
    },
    "papermill": {
     "duration": 0.027666,
     "end_time": "2022-10-12T13:38:16.469781",
     "exception": false,
     "start_time": "2022-10-12T13:38:16.442115",
     "status": "completed"
    },
    "tags": []
   },
   "outputs": [
    {
     "data": {
      "text/plain": [
       "Sr No                0\n",
       "Date                 0\n",
       "StartupName          0\n",
       "Industry           171\n",
       "Sub_Industry       936\n",
       "Location           180\n",
       "Investor            24\n",
       "Investment_Type      4\n",
       "Amount_in_USD      960\n",
       "dtype: int64"
      ]
     },
     "execution_count": 11,
     "metadata": {},
     "output_type": "execute_result"
    }
   ],
   "source": [
    "data.isnull().sum()"
   ]
  },
  {
   "cell_type": "code",
   "execution_count": 12,
   "id": "29703843",
   "metadata": {
    "execution": {
     "iopub.execute_input": "2022-10-12T13:38:16.495243Z",
     "iopub.status.busy": "2022-10-12T13:38:16.494419Z",
     "iopub.status.idle": "2022-10-12T13:38:17.545281Z",
     "shell.execute_reply": "2022-10-12T13:38:17.543954Z"
    },
    "papermill": {
     "duration": 1.067052,
     "end_time": "2022-10-12T13:38:17.548212",
     "exception": false,
     "start_time": "2022-10-12T13:38:16.481160",
     "status": "completed"
    },
    "tags": []
   },
   "outputs": [
    {
     "data": {
      "text/plain": [
       "<AxesSubplot:>"
      ]
     },
     "execution_count": 12,
     "metadata": {},
     "output_type": "execute_result"
    },
    {
     "data": {
      "image/png": "[encoded data removed]",
      "text/plain": [
       "<Figure size 1728x720 with 3 Axes>"
      ]
     },
     "metadata": {
      "needs_background": "light"
     },
     "output_type": "display_data"
    }
   ],
   "source": [
    "msno.bar(data)"
   ]
  },
  {
   "cell_type": "code",
   "execution_count": 13,
   "id": "e4fe4293",
   "metadata": {
    "execution": {
     "iopub.execute_input": "2022-10-12T13:38:17.575170Z",
     "iopub.status.busy": "2022-10-12T13:38:17.573985Z",
     "iopub.status.idle": "2022-10-12T13:38:18.068584Z",
     "shell.execute_reply": "2022-10-12T13:38:18.067331Z"
    },
    "papermill": {
     "duration": 0.510993,
     "end_time": "2022-10-12T13:38:18.071464",
     "exception": false,
     "start_time": "2022-10-12T13:38:17.560471",
     "status": "completed"
    },
    "tags": []
   },
   "outputs": [
    {
     "data": {
      "text/plain": [
       "<AxesSubplot:>"
      ]
     },
     "execution_count": 13,
     "metadata": {},
     "output_type": "execute_result"
    },
    {
     "data": {
      "image/png": "[encoded data removed]",
      "text/plain": [
       "<Figure size 1440x864 with 2 Axes>"
      ]
     },
     "metadata": {
      "needs_background": "light"
     },
     "output_type": "display_data"
    }
   ],
   "source": [
    "msno.heatmap(data)"
   ]
  },
  {
   "cell_type": "code",
   "execution_count": 14,
   "id": "23051ecd",
   "metadata": {
    "execution": {
     "iopub.execute_input": "2022-10-12T13:38:18.100111Z",
     "iopub.status.busy": "2022-10-12T13:38:18.099399Z",
     "iopub.status.idle": "2022-10-12T13:38:18.112111Z",
     "shell.execute_reply": "2022-10-12T13:38:18.110760Z"
    },
    "papermill": {
     "duration": 0.030503,
     "end_time": "2022-10-12T13:38:18.115203",
     "exception": false,
     "start_time": "2022-10-12T13:38:18.084700",
     "status": "completed"
    },
    "tags": []
   },
   "outputs": [],
   "source": [
    "data=data.fillna(method='pad')"
   ]
  },
  {
   "cell_type": "code",
   "execution_count": 15,
   "id": "8e55510b",
   "metadata": {
    "execution": {
     "iopub.execute_input": "2022-10-12T13:38:18.144236Z",
     "iopub.status.busy": "2022-10-12T13:38:18.142902Z",
     "iopub.status.idle": "2022-10-12T13:38:18.303721Z",
     "shell.execute_reply": "2022-10-12T13:38:18.301958Z"
    },
    "papermill": {
     "duration": 0.177548,
     "end_time": "2022-10-12T13:38:18.305989",
     "exception": true,
     "start_time": "2022-10-12T13:38:18.128441",
     "status": "failed"
    },
    "tags": []
   },
   "outputs": [
    {
     "ename": "KeyError",
     "evalue": "'Remarks'",
     "output_type": "error",
     "traceback": [
      "\u001b[0;31m---------------------------------------------------------------------------\u001b[0m",
      "\u001b[0;31mKeyError\u001b[0m                                  Traceback (most recent call last)",
      "\u001b[0;32m/opt/conda/lib/python3.7/site-packages/pandas/core/indexes/base.py\u001b[0m in \u001b[0;36mget_loc\u001b[0;34m(self, key, method, tolerance)\u001b[0m\n\u001b[1;32m   3360\u001b[0m             \u001b[0;32mtry\u001b[0m\u001b[0;34m:\u001b[0m\u001b[0;34m\u001b[0m\u001b[0;34m\u001b[0m\u001b[0m\n\u001b[0;32m-> 3361\u001b[0;31m                 \u001b[0;32mreturn\u001b[0m \u001b[0mself\u001b[0m\u001b[0;34m.\u001b[0m\u001b[0m_engine\u001b[0m\u001b[0;34m.\u001b[0m\u001b[0mget_loc\u001b[0m\u001b[0;34m(\u001b[0m\u001b[0mcasted_key\u001b[0m\u001b[0;34m)\u001b[0m\u001b[0;34m\u001b[0m\u001b[0;34m\u001b[0m\u001b[0m\n\u001b[0m\u001b[1;32m   3362\u001b[0m             \u001b[0;32mexcept\u001b[0m \u001b[0mKeyError\u001b[0m \u001b[0;32mas\u001b[0m \u001b[0merr\u001b[0m\u001b[0;34m:\u001b[0m\u001b[0;34m\u001b[0m\u001b[0;34m\u001b[0m\u001b[0m\n",
      "\u001b[0;32m/opt/conda/lib/python3.7/site-packages/pandas/_libs/index.pyx\u001b[0m in \u001b[0;36mpandas._libs.index.IndexEngine.get_loc\u001b[0;34m()\u001b[0m\n",
      "\u001b[0;32m/opt/conda/lib/python3.7/site-packages/pandas/_libs/index.pyx\u001b[0m in \u001b[0;36mpandas._libs.index.IndexEngine.get_loc\u001b[0;34m()\u001b[0m\n",
      "\u001b[0;32mpandas/_libs/hashtable_class_helper.pxi\u001b[0m in \u001b[0;36mpandas._libs.hashtable.PyObjectHashTable.get_item\u001b[0;34m()\u001b[0m\n",
      "\u001b[0;32mpandas/_libs/hashtable_class_helper.pxi\u001b[0m in \u001b[0;36mpandas._libs.hashtable.PyObjectHashTable.get_item\u001b[0;34m()\u001b[0m\n",
      "\u001b[0;31mKeyError\u001b[0m: 'Remarks'",
      "\nThe above exception was the direct cause of the following exception:\n",
      "\u001b[0;31mKeyError\u001b[0m                                  Traceback (most recent call last)",
      "\u001b[0;32m/tmp/ipykernel_19/1171304119.py\u001b[0m in \u001b[0;36m<module>\u001b[0;34m\u001b[0m\n\u001b[0;32m----> 1\u001b[0;31m \u001b[0mdata\u001b[0m\u001b[0;34m[\u001b[0m\u001b[0;34m'Remarks'\u001b[0m\u001b[0;34m]\u001b[0m\u001b[0;34m.\u001b[0m\u001b[0misna\u001b[0m\u001b[0;34m(\u001b[0m\u001b[0;34m)\u001b[0m\u001b[0;34m\u001b[0m\u001b[0;34m\u001b[0m\u001b[0m\n\u001b[0m",
      "\u001b[0;32m/opt/conda/lib/python3.7/site-packages/pandas/core/frame.py\u001b[0m in \u001b[0;36m__getitem__\u001b[0;34m(self, key)\u001b[0m\n\u001b[1;32m   3456\u001b[0m             \u001b[0;32mif\u001b[0m \u001b[0mself\u001b[0m\u001b[0;34m.\u001b[0m\u001b[0mcolumns\u001b[0m\u001b[0;34m.\u001b[0m\u001b[0mnlevels\u001b[0m \u001b[0;34m>\u001b[0m \u001b[0;36m1\u001b[0m\u001b[0;34m:\u001b[0m\u001b[0;34m\u001b[0m\u001b[0;34m\u001b[0m\u001b[0m\n\u001b[1;32m   3457\u001b[0m                 \u001b[0;32mreturn\u001b[0m \u001b[0mself\u001b[0m\u001b[0;34m.\u001b[0m\u001b[0m_getitem_multilevel\u001b[0m\u001b[0;34m(\u001b[0m\u001b[0mkey\u001b[0m\u001b[0;34m)\u001b[0m\u001b[0;34m\u001b[0m\u001b[0;34m\u001b[0m\u001b[0m\n\u001b[0;32m-> 3458\u001b[0;31m             \u001b[0mindexer\u001b[0m \u001b[0;34m=\u001b[0m \u001b[0mself\u001b[0m\u001b[0;34m.\u001b[0m\u001b[0mcolumns\u001b[0m\u001b[0;34m.\u001b[0m\u001b[0mget_loc\u001b[0m\u001b[0;34m(\u001b[0m\u001b[0mkey\u001b[0m\u001b[0;34m)\u001b[0m\u001b[0;34m\u001b[0m\u001b[0;34m\u001b[0m\u001b[0m\n\u001b[0m\u001b[1;32m   3459\u001b[0m             \u001b[0;32mif\u001b[0m \u001b[0mis_integer\u001b[0m\u001b[0;34m(\u001b[0m\u001b[0mindexer\u001b[0m\u001b[0;34m)\u001b[0m\u001b[0;34m:\u001b[0m\u001b[0;34m\u001b[0m\u001b[0;34m\u001b[0m\u001b[0m\n\u001b[1;32m   3460\u001b[0m                 \u001b[0mindexer\u001b[0m \u001b[0;34m=\u001b[0m \u001b[0;34m[\u001b[0m\u001b[0mindexer\u001b[0m\u001b[0;34m]\u001b[0m\u001b[0;34m\u001b[0m\u001b[0;34m\u001b[0m\u001b[0m\n",
      "\u001b[0;32m/opt/conda/lib/python3.7/site-packages/pandas/core/indexes/base.py\u001b[0m in \u001b[0;36mget_loc\u001b[0;34m(self, key, method, tolerance)\u001b[0m\n\u001b[1;32m   3361\u001b[0m                 \u001b[0;32mreturn\u001b[0m \u001b[0mself\u001b[0m\u001b[0;34m.\u001b[0m\u001b[0m_engine\u001b[0m\u001b[0;34m.\u001b[0m\u001b[0mget_loc\u001b[0m\u001b[0;34m(\u001b[0m\u001b[0mcasted_key\u001b[0m\u001b[0;34m)\u001b[0m\u001b[0;34m\u001b[0m\u001b[0;34m\u001b[0m\u001b[0m\n\u001b[1;32m   3362\u001b[0m             \u001b[0;32mexcept\u001b[0m \u001b[0mKeyError\u001b[0m \u001b[0;32mas\u001b[0m \u001b[0merr\u001b[0m\u001b[0;34m:\u001b[0m\u001b[0;34m\u001b[0m\u001b[0;34m\u001b[0m\u001b[0m\n\u001b[0;32m-> 3363\u001b[0;31m                 \u001b[0;32mraise\u001b[0m \u001b[0mKeyError\u001b[0m\u001b[0;34m(\u001b[0m\u001b[0mkey\u001b[0m\u001b[0;34m)\u001b[0m \u001b[0;32mfrom\u001b[0m \u001b[0merr\u001b[0m\u001b[0;34m\u001b[0m\u001b[0;34m\u001b[0m\u001b[0m\n\u001b[0m\u001b[1;32m   3364\u001b[0m \u001b[0;34m\u001b[0m\u001b[0m\n\u001b[1;32m   3365\u001b[0m         \u001b[0;32mif\u001b[0m \u001b[0mis_scalar\u001b[0m\u001b[0;34m(\u001b[0m\u001b[0mkey\u001b[0m\u001b[0;34m)\u001b[0m \u001b[0;32mand\u001b[0m \u001b[0misna\u001b[0m\u001b[0;34m(\u001b[0m\u001b[0mkey\u001b[0m\u001b[0;34m)\u001b[0m \u001b[0;32mand\u001b[0m \u001b[0;32mnot\u001b[0m \u001b[0mself\u001b[0m\u001b[0;34m.\u001b[0m\u001b[0mhasnans\u001b[0m\u001b[0;34m:\u001b[0m\u001b[0;34m\u001b[0m\u001b[0;34m\u001b[0m\u001b[0m\n",
      "\u001b[0;31mKeyError\u001b[0m: 'Remarks'"
     ]
    }
   ],
   "source": [
    "data['Remarks'].isna()"
   ]
  },
  {
   "cell_type": "code",
   "execution_count": null,
   "id": "017218c1",
   "metadata": {
    "execution": {
     "iopub.execute_input": "2022-10-12T11:43:01.858682Z",
     "iopub.status.busy": "2022-10-12T11:43:01.858142Z",
     "iopub.status.idle": "2022-10-12T11:43:01.872418Z",
     "shell.execute_reply": "2022-10-12T11:43:01.871009Z",
     "shell.execute_reply.started": "2022-10-12T11:43:01.858644Z"
    },
    "papermill": {
     "duration": null,
     "end_time": null,
     "exception": null,
     "start_time": null,
     "status": "pending"
    },
    "tags": []
   },
   "outputs": [],
   "source": [
    "data.isnull().sum()"
   ]
  },
  {
   "cell_type": "code",
   "execution_count": null,
   "id": "101de5a3",
   "metadata": {
    "execution": {
     "iopub.execute_input": "2022-10-12T11:32:22.392285Z",
     "iopub.status.busy": "2022-10-12T11:32:22.390749Z",
     "iopub.status.idle": "2022-10-12T11:32:22.417149Z",
     "shell.execute_reply": "2022-10-12T11:32:22.415971Z",
     "shell.execute_reply.started": "2022-10-12T11:32:22.392222Z"
    },
    "papermill": {
     "duration": null,
     "end_time": null,
     "exception": null,
     "start_time": null,
     "status": "pending"
    },
    "tags": []
   },
   "outputs": [],
   "source": [
    "data['Date'] = pd.to_datetime(data['Date'], errors='coerce')\n",
    "data=data.dropna(subset=['Date'])\n",
    "data['Date'] = pd.to_datetime(data['Date'])\n",
    "\n",
    "\n"
   ]
  },
  {
   "cell_type": "code",
   "execution_count": null,
   "id": "b7d5f47f",
   "metadata": {
    "execution": {
     "iopub.execute_input": "2022-10-12T11:32:27.946425Z",
     "iopub.status.busy": "2022-10-12T11:32:27.945923Z",
     "iopub.status.idle": "2022-10-12T11:32:27.956238Z",
     "shell.execute_reply": "2022-10-12T11:32:27.954441Z",
     "shell.execute_reply.started": "2022-10-12T11:32:27.946388Z"
    },
    "papermill": {
     "duration": null,
     "end_time": null,
     "exception": null,
     "start_time": null,
     "status": "pending"
    },
    "tags": []
   },
   "outputs": [],
   "source": [
    "data = data.sort_values(by=\"Date\")"
   ]
  },
  {
   "cell_type": "code",
   "execution_count": null,
   "id": "c6a4abd8",
   "metadata": {
    "execution": {
     "iopub.execute_input": "2022-10-12T11:33:19.338013Z",
     "iopub.status.busy": "2022-10-12T11:33:19.337457Z",
     "iopub.status.idle": "2022-10-12T11:33:19.347012Z",
     "shell.execute_reply": "2022-10-12T11:33:19.345433Z",
     "shell.execute_reply.started": "2022-10-12T11:33:19.337956Z"
    },
    "papermill": {
     "duration": null,
     "end_time": null,
     "exception": null,
     "start_time": null,
     "status": "pending"
    },
    "tags": []
   },
   "outputs": [],
   "source": [
    "data.reset_index(inplace=True)"
   ]
  },
  {
   "cell_type": "code",
   "execution_count": null,
   "id": "ee6dd15d",
   "metadata": {
    "execution": {
     "iopub.execute_input": "2022-10-12T11:33:37.445728Z",
     "iopub.status.busy": "2022-10-12T11:33:37.444497Z",
     "iopub.status.idle": "2022-10-12T11:33:37.454210Z",
     "shell.execute_reply": "2022-10-12T11:33:37.452601Z",
     "shell.execute_reply.started": "2022-10-12T11:33:37.445671Z"
    },
    "papermill": {
     "duration": null,
     "end_time": null,
     "exception": null,
     "start_time": null,
     "status": "pending"
    },
    "tags": []
   },
   "outputs": [],
   "source": [
    "data.reset_index(inplace=True)"
   ]
  },
  {
   "cell_type": "code",
   "execution_count": null,
   "id": "07d91d56",
   "metadata": {
    "execution": {
     "iopub.execute_input": "2022-10-12T11:38:04.606729Z",
     "iopub.status.busy": "2022-10-12T11:38:04.606235Z",
     "iopub.status.idle": "2022-10-12T11:38:04.618544Z",
     "shell.execute_reply": "2022-10-12T11:38:04.616912Z",
     "shell.execute_reply.started": "2022-10-12T11:38:04.606695Z"
    },
    "papermill": {
     "duration": null,
     "end_time": null,
     "exception": null,
     "start_time": null,
     "status": "pending"
    },
    "tags": []
   },
   "outputs": [],
   "source": [
    "data.dtypes"
   ]
  },
  {
   "cell_type": "code",
   "execution_count": null,
   "id": "490a63c5",
   "metadata": {
    "execution": {
     "iopub.execute_input": "2022-10-12T11:39:04.224000Z",
     "iopub.status.busy": "2022-10-12T11:39:04.223565Z",
     "iopub.status.idle": "2022-10-12T11:39:04.235394Z",
     "shell.execute_reply": "2022-10-12T11:39:04.233998Z",
     "shell.execute_reply.started": "2022-10-12T11:39:04.223957Z"
    },
    "papermill": {
     "duration": null,
     "end_time": null,
     "exception": null,
     "start_time": null,
     "status": "pending"
    },
    "tags": []
   },
   "outputs": [],
   "source": [
    "data['Amount_in_USD'].unique()"
   ]
  },
  {
   "cell_type": "code",
   "execution_count": null,
   "id": "ad99b142",
   "metadata": {
    "execution": {
     "iopub.execute_input": "2022-10-12T11:44:13.150556Z",
     "iopub.status.busy": "2022-10-12T11:44:13.149937Z",
     "iopub.status.idle": "2022-10-12T11:44:13.166001Z",
     "shell.execute_reply": "2022-10-12T11:44:13.164611Z",
     "shell.execute_reply.started": "2022-10-12T11:44:13.150505Z"
    },
    "papermill": {
     "duration": null,
     "end_time": null,
     "exception": null,
     "start_time": null,
     "status": "pending"
    },
    "tags": []
   },
   "outputs": [],
   "source": [
    "data['Amount_in_USD'].str.isnumeric()"
   ]
  },
  {
   "cell_type": "code",
   "execution_count": null,
   "id": "531901fe",
   "metadata": {
    "execution": {
     "iopub.execute_input": "2022-10-12T11:44:53.427168Z",
     "iopub.status.busy": "2022-10-12T11:44:53.426615Z",
     "iopub.status.idle": "2022-10-12T11:44:53.440421Z",
     "shell.execute_reply": "2022-10-12T11:44:53.439007Z",
     "shell.execute_reply.started": "2022-10-12T11:44:53.427128Z"
    },
    "papermill": {
     "duration": null,
     "end_time": null,
     "exception": null,
     "start_time": null,
     "status": "pending"
    },
    "tags": []
   },
   "outputs": [],
   "source": [
    "data['Amount_in_USD'].str.get(0)"
   ]
  },
  {
   "cell_type": "code",
   "execution_count": null,
   "id": "da7e6dc3",
   "metadata": {
    "execution": {
     "iopub.execute_input": "2022-10-12T12:53:15.070439Z",
     "iopub.status.busy": "2022-10-12T12:53:15.069974Z",
     "iopub.status.idle": "2022-10-12T12:53:15.089958Z",
     "shell.execute_reply": "2022-10-12T12:53:15.088665Z",
     "shell.execute_reply.started": "2022-10-12T12:53:15.070405Z"
    },
    "papermill": {
     "duration": null,
     "end_time": null,
     "exception": null,
     "start_time": null,
     "status": "pending"
    },
    "tags": []
   },
   "outputs": [],
   "source": [
    "data['Amount_in_USD']=data['Amount_in_USD'].str.split(' ').str.get(0).str.replace(',','')\n",
    "data['Amount_in_USD']\n"
   ]
  },
  {
   "cell_type": "code",
   "execution_count": null,
   "id": "b0c4e015",
   "metadata": {
    "execution": {
     "iopub.execute_input": "2022-10-12T12:53:06.679442Z",
     "iopub.status.busy": "2022-10-12T12:53:06.678939Z",
     "iopub.status.idle": "2022-10-12T12:53:06.691838Z",
     "shell.execute_reply": "2022-10-12T12:53:06.690042Z",
     "shell.execute_reply.started": "2022-10-12T12:53:06.679407Z"
    },
    "papermill": {
     "duration": null,
     "end_time": null,
     "exception": null,
     "start_time": null,
     "status": "pending"
    },
    "tags": []
   },
   "outputs": [],
   "source": [
    "def recorrect(x,y):\n",
    "    if(len([x.str.contains('\\\\\\\\xc2\\\\\\\\xa0N/A')==True])>0):\n",
    "        x=x.str.replace(r'\\\\\\\\xc2\\\\\\\\xa0N/A',\"\")\n",
    "    if(len([x.str.contains('\\\\\\\\xc2\\\\\\\\xa010,000,000')==True])>0):\n",
    "        x=x.str.replace('\\\\\\\\xc2\\\\\\\\xa010,000,000',\"\")\n",
    "    if(len([x.str.contains('\\\\\\\\xc2\\\\\\\\xa05,000,000')==True])>0):\n",
    "         x=x.str.replace('\\\\\\\\xc2\\\\\\\\xa05,000,000',\"\")\n",
    "    if(len([x.str.contains('\\\\\\\\xc2\\\\\\\\xa020,000,000')==True])>0):\n",
    "         x=x.str.replace('\\\\\\\\xc2\\\\\\\\xa020,000,000',\"\")\n",
    "    if(len([x.str.contains('\\\\\\\\xc2\\\\\\\\xa016')==True])>0):   \n",
    "         x=x.str.replace('\\\\\\\\xc2\\\\\\\\xa016',\"\")\n",
    "    if(len([x.str.contains('\\\\\\\\xc2\\\\\\\\xa019,350,000')==True])>0):\n",
    "           x=x.str.replace('\\\\\\\\xc2\\\\\\\\xa019,350,000',\"\")\n",
    "    if(len([x.str.contains('\\\\\\\\xc2\\\\\\\\xa0685')==True])>0):\n",
    "           x=x.str.replace('\\\\\\\\xc2\\\\\\\\xa0685',\"\")\n",
    "    return x\n",
    "    data['Amount_in_USD']=recorrect(data['Amount_in_USD'],data)"
   ]
  },
  {
   "cell_type": "code",
   "execution_count": null,
   "id": "a9650775",
   "metadata": {
    "execution": {
     "iopub.execute_input": "2022-10-12T12:22:36.687834Z",
     "iopub.status.busy": "2022-10-12T12:22:36.686731Z",
     "iopub.status.idle": "2022-10-12T12:22:36.696464Z",
     "shell.execute_reply": "2022-10-12T12:22:36.695470Z",
     "shell.execute_reply.started": "2022-10-12T12:22:36.687787Z"
    },
    "papermill": {
     "duration": null,
     "end_time": null,
     "exception": null,
     "start_time": null,
     "status": "pending"
    },
    "tags": []
   },
   "outputs": [],
   "source": [
    "def reformat(x,y):\n",
    "    if(len(y[x.str.contains(r'\\\\\\\\xc2\\\\\\\\xa0')==True])>0):\n",
    "        x=x.str.replace(r'\\\\\\\\xc2\\\\\\\\xa0',\"\")\n",
    "    if(len(y[x.str.contains(r'https://www.wealthbucket.in/')==True])>0):\n",
    "        x=x.str.replace(r'https://www.wealthbucket.in/',\"wealthbucket\")\n",
    "    if(len(y[x.str.contains(r'\\\\\\\\xe2\\\\\\\\x80\\\\\\\\x99')==True])>0):\n",
    "        x=x.str.replace(r'\\\\\\\\xe2\\\\\\\\x80\\\\\\\\x99',\"\")\n",
    "    if(len(y[x.str.contains(r'\\\\xe2\\\\x80\\\\x99')]==True)>0):\n",
    "        x=x.str.replace(r'\\\\xe2\\\\x80\\\\x99','')\n",
    "    return x\n",
    "    data['StartupName']=reformat(data['StartupName'],data)"
   ]
  },
  {
   "cell_type": "code",
   "execution_count": null,
   "id": "86ee30bb",
   "metadata": {
    "execution": {
     "iopub.execute_input": "2022-10-12T12:23:37.148559Z",
     "iopub.status.busy": "2022-10-12T12:23:37.147930Z",
     "iopub.status.idle": "2022-10-12T12:23:37.250271Z",
     "shell.execute_reply": "2022-10-12T12:23:37.249455Z",
     "shell.execute_reply.started": "2022-10-12T12:23:37.148524Z"
    },
    "papermill": {
     "duration": null,
     "end_time": null,
     "exception": null,
     "start_time": null,
     "status": "pending"
    },
    "tags": []
   },
   "outputs": [],
   "source": [
    "def correct_city(x,y):\n",
    "    if(len(y[x.str.contains(r'\\\\\\\\xc2\\\\\\\\xa0')==True])>0):\n",
    "        x=x.str.replace(r'\\\\\\\\xc2\\\\\\\\xa0',\"\")\n",
    "    if(len(y[x.str.contains(r'\\\\\\\\\\\\\\\\xc2\\\\\\\\\\\\\\\\xa0')==True])>0):\n",
    "        x=x.str.replace(r'\\\\\\\\\\\\\\\\xc2\\\\\\\\\\\\\\\\xa0',\"\")\n",
    "    #Bengaluru\n",
    "    if(len(y[x.str.contains('Bangalore')==True])>0):\n",
    "        x=x.str.replace('Bangalore',\"Bengaluru\")\n",
    "    if(len(y[x.str.contains('Bangalore')==True])>0):\n",
    "        x=x.str.replace('Bangalore',\"Bengaluru\")\n",
    "    if(len(y[x.str.contains(r'Bengaluru and Gurugram')==True])>0):\n",
    "        x=x.str.replace(r'Bengaluru and Gurugram','Bengaluru')\n",
    "    if(len(y[x.str.contains(r'Bengaluru/ Bangkok')==True])>0):\n",
    "        x=x.str.replace(r'Bengluru/ Bangkok','Bengaluru')\n",
    "    if(len(y[x.str.contains(r'Bengaluru / SFO')==True])>0):\n",
    "        x=x.str.replace(r'Bengaluru / SFO','Bengaluru')\n",
    "    if(len(y[x.str.contains(r'SFO / Bengaluru')==True])>0):\n",
    "        x=x.str.replace(r'SFO / Bengaluru','Bengaluru')\n",
    "    if(len(y[x.str.contains(r'Bengaluru/ Bangkok')==True])>0):\n",
    "        x=x.str.replace(r'Bengaluru/ Bangkok','Bengaluru')\n",
    "    if(len(y[x.str.contains(r'New York, Bengaluru')==True])>0):\n",
    "        x=x.str.replace(r'New York, Bengaluru','Bengaluru')\n",
    "    if(len(y[x.str.contains(r'Bengaluru / Palo Alto')==True])>0):\n",
    "        x=x.str.replace(r'Bengaluru / Palo Alto','Bengaluru')\n",
    "    if(len(y[x.str.contains(r'Bengaluru / San Mateo')==True])>0):\n",
    "        x=x.str.replace(r'Bengaluru / San Mateo','Bengaluru')\n",
    "    if(len(y[x.str.contains(r'Seattle / Bengaluru')==True])>0):\n",
    "        x=x.str.replace(r'Seattle / Bengaluru','Bengaluru')\n",
    "    if(len(y[x.str.contains(r'Bengaluru / USA')==True])>0):\n",
    "        x=x.str.replace(r'Bengaluru / USA','Bengaluru')   \n",
    "    #Gurgaon\n",
    "    if(len(y[x.str.contains(\"Gurgaon\")==True])>0):\n",
    "        x=x.str.replace('Gurgaon','Gurugram')\n",
    "    if(len(y[x.str.contains(r'Gurugram / SFO')==True])>0):\n",
    "        x=x.str.replace(r'Gurugram / SFO','Bengaluru')\n",
    "    #Delhi\n",
    "    if(len(y[x.str.contains(r'Nw Delhi')==True])>0):\n",
    "        x=x.str.replace('Nw Delhi','Delhi')\n",
    "    if(len(y[x.str.contains(r'Delhi / California')==True])>0):\n",
    "        x=x.str.replace('Delhi / California','Delhi')\n",
    "    if(len(y[x.str.contains(r'Delhi / Houston')==True])>0):\n",
    "        x=x.str.replace(r'Delhi / Houston','Delhi')\n",
    "    if(len(y[x.str.contains(r'New Delhi')==True])>0):\n",
    "        x=x.str.replace(r'New Delhi','Delhi')\n",
    "    if(len(y[x.str.contains(r'Delhi / US')==True])>0):\n",
    "        x=x.str.replace(r'Delhi / US','Delhi')\n",
    "    if(len(y[x.str.contains(r'Delhi & Cambridge')==True])>0):\n",
    "        x=x.str.replace(r'Delhi & Cambridge','Delhi')\n",
    "    if(len(y[x.str.contains(r'Delhi/ Houston')==True])>0):\n",
    "        x=x.str.replace(r'Delhi/ Houston','Delhi')\n",
    "    \n",
    "    #Goa\n",
    "    if(len(y[x.str.contains(r'Goa/Hyderabad')==True])>0):\n",
    "        x=x.str.replace(r'Goa/Hyderabad','Goa')\n",
    "    if(len(y[x.str.contains(r'Panaji')==True])>0):\n",
    "        x=x.str.replace(r'Panaji','Goa')\n",
    "    #Mumbai\n",
    "    if(len(y[x.str.contains(r'Mumbai / Global')==True])>0):\n",
    "        x=x.str.replace(r'Mumbai / Global','Mumbai')\n",
    "    if(len(y[x.str.contains(r'Andheri')==True])>0):\n",
    "        x=x.str.replace(r'Andheri','Mumbai')\n",
    "    if(len(y[x.str.contains(r'Mumbai/Bengaluru')==True])>0):\n",
    "        x=x.str.replace(r'Mumbai/Bengaluru','Mumbai')\n",
    "    if(len(y[x.str.contains(r'Mumbai / UK')==True])>0):\n",
    "        x=x.str.replace(r'Mumbai / UK','Mumbai')\n",
    "    if(len(y[x.str.contains(r'Mumbai / NY')==True])>0):\n",
    "        x=x.str.replace(r'Mumbai / NY','Mumbai')\n",
    "    #Pune\n",
    "    if(len(y[x.str.contains(r'Pune / Singapore')==True])>0):\n",
    "        x=x.str.replace(r'Pune / Singapore','Pune')\n",
    "    if(len(y[x.str.contains(r'Pune / US')==True])>0):\n",
    "        x=x.str.replace(r'Pune / US','Pune')\n",
    "    if(len(y[x.str.contains(r'Pune / Dubai')==True])>0):\n",
    "        x=x.str.replace(r'Pune / Dubai','Pune')\n",
    "    if(len(y[x.str.contains(r'Pune/Seattle')==True])>0):\n",
    "        x=x.str.replace(r'Pune/Seattle','Pune')\n",
    "    #Hyderabad\n",
    "    if(len(y[x.str.contains(r'Dallas / Hyderabad')==True])>0):\n",
    "        x=x.str.replace(r'Dallas / Hyderabad','Hyderabad')\n",
    "    if(len(y[x.str.contains(r'Hyderabad/USA')==True])>0):\n",
    "        x=x.str.replace(r'Hyderabad/USA','Hyderabad')\n",
    "    #Chennai\n",
    "    if(len(y[x.str.contains(r'Chennai/ Singapore')==True])>0):\n",
    "        x=x.str.replace(r'Chennai/ Singapore','Chennai')\n",
    "    #Noida\n",
    "    if(len(y[x.str.contains(r'Noida / Singapore')==True])>0):\n",
    "        x=x.str.replace(r'Noida / Singapore','Noida')\n",
    "    return x\n",
    "\n",
    "data['Location']=correct_city(data['Location'],data)"
   ]
  },
  {
   "cell_type": "code",
   "execution_count": null,
   "id": "3c31c353",
   "metadata": {
    "execution": {
     "iopub.execute_input": "2022-10-12T12:24:17.529333Z",
     "iopub.status.busy": "2022-10-12T12:24:17.528645Z",
     "iopub.status.idle": "2022-10-12T12:24:17.627480Z",
     "shell.execute_reply": "2022-10-12T12:24:17.626076Z",
     "shell.execute_reply.started": "2022-10-12T12:24:17.529297Z"
    },
    "papermill": {
     "duration": null,
     "end_time": null,
     "exception": null,
     "start_time": null,
     "status": "pending"
    },
    "tags": []
   },
   "outputs": [],
   "source": [
    "def correct_investor(x,y):\n",
    "    if(len(y[x.str.contains(r'\\\\\\\\xc2\\\\\\\\xa0')==True])>0):\n",
    "        x=x.str.replace(r'\\\\\\\\xc2\\\\\\\\xa0',\"\")\n",
    "    if(len(y[x.str.contains(r'\\\\\\\\\\\\\\\\xc2\\\\\\\\\\\\\\\\xa0')==True])>0):\n",
    "        x=x.str.replace(r'\\\\\\\\\\\\\\\\xc2\\\\\\\\\\\\\\\\xa0',\"\")\n",
    "    if(len(y[x.str.contains(r'\\\\\\\\xe2\\\\\\\\x80\\\\\\\\x99O')==True])>0):\n",
    "        x=x.str.replace(r'\\\\\\\\xe2\\\\\\\\x80\\\\\\\\x99O',\"\")\n",
    "    if(len(y[x.str.contains(r'\\\\\\\\\\\\\\\\xe2\\\\\\\\\\\\\\\\x80\\\\\\\\\\\\\\\\x99O')==True])>0):\n",
    "        x=x.str.replace(r'\\\\\\\\\\\\\\\\xe2\\\\\\\\\\\\\\\\x80\\\\\\\\\\\\\\\\x99O',\"\")\n",
    "    if(len(y[x.str.contains(r'\\\\\\xe2\\\\\\\\x80\\\\\\\\x99')==True])>0):\n",
    "        x=x.str.replace(r'\\\\\\xe2\\\\\\\\x80\\\\\\\\x99',\"\")\n",
    "    if(len(y[x.str.contains(r'\\\\\\\\xe2\\\\\\\\x80\\\\\\\\x99')==True])>0):\n",
    "        x=x.str.replace(r'\\\\\\\\xe2\\\\\\\\x80\\\\\\\\x99',\"\")\n",
    "    if(len(y[x.str.contains(r'\\\\\\\\\\\\\\\\xc3\\\\\\\\\\\\\\\\x98')==True])>0):\n",
    "        x=x.str.replace(r'\\\\\\\\\\\\\\\\xc3\\\\\\\\\\\\\\\\x98',\"\")\n",
    "    if(len(y[x.str.contains(r'\\\\\\\\\\\\\\\\n\\\\\\\\\\\\\\\\n')==True])>0):\n",
    "        x=x.str.replace(r'\\\\\\\\\\\\\\\\n\\\\\\\\\\\\\\\\n',\"\")\n",
    "\n",
    "    if(len(y[x.str.contains(r'Undisclosed Investor')==True])>0):\n",
    "        x=x.str.replace(r'Undisclosed Investor',\"Undisclosed Investors\")\n",
    "    if(len(y[x.str.contains(r'Undisclosed investor')==True])>0):\n",
    "        x=x.str.replace(r'Undisclosed investor',\"Undisclosed Investors\")\n",
    "    if(len(y[x.str.contains(r'Undisclosed Investorss')==True])>0):\n",
    "        x=x.str.replace(r'Undisclosed Investorss',\"Undisclosed Investors\")\n",
    "    if(len(y[x.str.contains(r'Undisclosed HNIs')==True])>0):\n",
    "        x=x.str.replace(r'Undisclosed HNIs',\"Undisclosed Investors\")\n",
    "    if(len(y[x.str.contains(r'Undisclosed Angel investors & HNIs')==True])>0):\n",
    "        x=x.str.replace(r\"Undisclosed Angel investors & HNIs\",\"Undisclosed Investors\")\n",
    "    if(len(y[x.str.contains(r'undisclosed investors')==True])>0):\n",
    "        x=x.str.replace(r\"undisclosed investors\",\"Undisclosed Investors\")\n",
    "    if(len(y[x.str.contains(r'undisclosed investor')==True])>0):\n",
    "        x=x.str.replace(r\"undisclosed investor\",\"Undisclosed Investors\")\n",
    "    if(len(y[x.str.contains(r'Undisclosed angel investors')==True])>0):\n",
    "        x=x.str.replace(r\"Undisclosed angel investors\",\"Undisclosed Investors\")\n",
    "    if(len(y[x.str.contains(r'High Networth Individuals (undisclosed)')==True])>0):\n",
    "        x=x.str.replace(r\"High Networth Individuals (undisclosed)\",\"Undisclosed Investors\")\n",
    "    if(len(y[x.str.contains(r'undisclosed private investors')==True])>0):\n",
    "        x=x.str.replace(r\"undisclosed private investors\",\"Undisclosed Investors\")\n",
    "    if(len(y[x.str.contains(r'SoftBank Group')==True])>0):\n",
    "        x=x.str.replace(r\"SoftBank Group\",\"SoftBank\")\n",
    "    if(len(y[x.str.contains(r'Softbank')==True])>0):\n",
    "        x=x.str.replace(r\"Softbank\",\"SoftBank\")\n",
    "    return x\n",
    "data['Investor']=correct_investor(data['Investor'],data)"
   ]
  },
  {
   "cell_type": "code",
   "execution_count": null,
   "id": "5a045423",
   "metadata": {
    "execution": {
     "iopub.execute_input": "2022-10-12T12:24:55.441556Z",
     "iopub.status.busy": "2022-10-12T12:24:55.441118Z",
     "iopub.status.idle": "2022-10-12T12:24:55.557422Z",
     "shell.execute_reply": "2022-10-12T12:24:55.556131Z",
     "shell.execute_reply.started": "2022-10-12T12:24:55.441522Z"
    },
    "papermill": {
     "duration": null,
     "end_time": null,
     "exception": null,
     "start_time": null,
     "status": "pending"
    },
    "tags": []
   },
   "outputs": [],
   "source": [
    "def correct_industry(x,y):\n",
    "    if(len(y[x.str.contains(r'\\\\\\\\xc2\\\\\\\\xa0')==True])>0):\n",
    "        x=x.str.replace(r'\\\\\\\\xc2\\\\\\\\xa0',\"\")\n",
    "    if(len(y[x.str.contains(r'\\\\\\\\xc3\\\\\\\\xa9')==True])>0):\n",
    "        x=x.str.replace(r'\\\\\\\\xc3\\\\\\\\xa9',\"\")\n",
    "    if(len(y[x.str.contains(r'\\\\\\\\xe2\\\\\\\\x80\\\\\\\\x99s')==True])>0):\n",
    "        x=x.str.replace(r'\\\\\\\\xe2\\\\\\\\x80\\\\\\\\x99',\"\")\n",
    "    if(len(y[x.str.contains(r'\\\\xe2\\\\x80\\\\x93')==True])>0):\n",
    "        x=x.str.replace(r'\\\\xe2\\\\x80\\\\x93',\"\")   \n",
    "    if(len(y[x.str.contains(r'\\\\\\\\n')==True])>0):\n",
    "        x=x.str.replace(r'\\\\\\\\n',\" \")   \n",
    "    if(len(y[x.str.contains(r'EdTech')==True])>0):\n",
    "        x=x.str.replace(r'EdTech',\"Ed-Tech\")   \n",
    "    if(len(y[x.str.contains(r'Edtech')==True])>0):\n",
    "        x=x.str.replace(r'Edtech',\"Ed-Tech\")\n",
    "    if(len(y[x.str.contains(r'Ecommerce')==True])>0):\n",
    "        x=x.str.replace(r'Ecommerce',\"E-commerce\")\n",
    "    if(len(y[x.str.contains(r'eCommerce')==True])>0):\n",
    "        x=x.str.replace(r'eCommerce',\"E-commerce\")\n",
    "    if(len(y[x.str.contains(r'ecommerce')==True])>0):\n",
    "        x=x.str.replace(r'ecommerce',\"E-commerce\")\n",
    "    if(len(y[x.str.contains(r'ECommerce')==True])>0):\n",
    "        x=x.str.replace(r'ECommerce',\"E-commerce\")\n",
    "    if(len(y[x.str.contains(r'E-Commerce')==True])>0):\n",
    "        x=x.str.replace(r'E-Commerce',\"E-commerce\")\n",
    "    if(len(y[x.str.contains(r'Fintech')==True])>0):\n",
    "        x=x.str.replace(r'Fintech',\"FinTech\")\n",
    "    if(len(y[x.str.contains(r'Fin-Tech')==True])>0):\n",
    "        x=x.str.replace(r'Fin-Tech',\"FinTech\")\n",
    "    if(len(y[x.str.contains(r'healthcare')==True])>0):\n",
    "        x=x.str.replace(r'healthcare',\"Healthcare\")\n",
    "    if(len(y[x.str.contains(r'SAAS')==True])>0):\n",
    "        x=x.str.replace(r'SAAS',\"SaaS\")\n",
    "    if(len(y[x.str.contains(r'Saas')==True])>0):\n",
    "        x=x.str.replace(r'Saas',\"SaaS\")\n",
    "    if(len(y[x.str.contains(r'logistics')==True])>0):\n",
    "        x=x.str.replace(r'logistics',\"Logistics\")\n",
    "    if(len(y[x.str.contains(r'OnDemand')==True])>0):\n",
    "        x=x.str.replace(r'OnDemand',\"OnDemand\")\n",
    "    if(len(y[x.str.contains(r'on-demand')==True])>0):\n",
    "        x=x.str.replace(r'on-demand',\"OnDemand\")\n",
    "    if(len(y[x.str.contains(r'online')==True])>0):\n",
    "        x=x.str.replace(r'online',\"Online\")\n",
    "    \n",
    "    return x\n",
    "\n",
    "data['Industry']=correct_industry(data['Industry'],data)"
   ]
  },
  {
   "cell_type": "code",
   "execution_count": null,
   "id": "07a3c5d0",
   "metadata": {
    "execution": {
     "iopub.execute_input": "2022-10-12T12:25:56.781009Z",
     "iopub.status.busy": "2022-10-12T12:25:56.780596Z",
     "iopub.status.idle": "2022-10-12T12:25:56.894371Z",
     "shell.execute_reply": "2022-10-12T12:25:56.891606Z",
     "shell.execute_reply.started": "2022-10-12T12:25:56.780973Z"
    },
    "papermill": {
     "duration": null,
     "end_time": null,
     "exception": null,
     "start_time": null,
     "status": "pending"
    },
    "tags": []
   },
   "outputs": [],
   "source": [
    "def correct_funding(x,y):\n",
    "    #Seed-Angel Funding\n",
    "    if(len(y[x.str.contains(r'Seed/ Angel Funding')==True])>0):\n",
    "        x=x.str.replace(r'Seed/ Angel Funding',\"Seed Angel Funding\")\n",
    "    if(len(y[x.str.contains(r'Angel / Seed Funding')==True])>0):\n",
    "        x=x.str.replace(r'Angel / Seed Funding',\"Seed Funding\")\n",
    "    if(len(y[x.str.contains(r'Seed / Angel Funding')==True])>0):\n",
    "        x=x.str.replace(r'Seed / Angel Funding',\"Seed Angel Funding\")\n",
    "    if(len(y[x.str.contains(r'Seed / Angle Funding')==True])>0):\n",
    "        x=x.str.replace(r'Seed / Angle Funding',\"Seed Funding\")\n",
    "    if(len(y[x.str.contains(r'Seed/Angel Funding')==True])>0):\n",
    "        x=x.str.replace(r'Seed/Angel Funding',\"Seed Funding\")\n",
    "    #Seed Funding\n",
    "    if(len(y[x.str.contains(r'Seed\\\\\\\\nFunding')==True])>0):\n",
    "        x=x.str.replace(r'Seed\\\\\\\\nFunding',\"Seed Funding\")\n",
    "    if(len(y[x.str.contains(r'Seed\\\\nFunding')==True])>0):\n",
    "        x=x.str.replace(r'Seed\\\\nFunding',\"Seed Funding\")\n",
    "    if(len(y[x.str.contains(r'Seed Round')==True])>0):\n",
    "        x=x.str.replace(r'Seed Round',\"Seed Funding\")\n",
    "    if(len(y[x.str.contains(r'Seed funding')==True])>0):\n",
    "        x=x.str.replace(r'Seed funding',\"Seed Funding\")\n",
    "    if(len(y[x.str.contains(r'Seed Funding Round')==True])>0):\n",
    "        x=x.str.replace(r'Seed Funding Round',\"Seed Funding\")\n",
    "    #Pre-Series A\n",
    "    if(len(y[x.str.contains(r'pre-series A')==True])>0):\n",
    "        x=x.str.replace(r'pre-series A',\"Pre-Series A\")\n",
    "    if(len(y[x.str.contains(r'Pre Series A')==True])>0):\n",
    "        x=x.str.replace(r'Pre Series A',\"Pre-Series A\")\n",
    "    if(len(y[x.str.contains(r'Pre-series A')==True])>0):\n",
    "        x=x.str.replace(r'Pre-series A',\"Pre-Series A\")\n",
    "    if(len(y[x.str.contains(r'pre-Series A')==True])>0):\n",
    "        x=x.str.replace(r'pre-Series A',\"Pre-Series A\")\n",
    "    #Equity\n",
    "    if(len(y[x.str.contains(r'Equity Based Funding')==True])>0):\n",
    "        x=x.str.replace(r'Equity Based Funding',\"Equity\")\n",
    "    #Angel\n",
    "    if(len(y[x.str.contains(r'Angel Funding')==True])>0):\n",
    "        x=x.str.replace(r'Angel Funding',\"Angel\")\n",
    "    if(len(y[x.str.contains(r'Angel Round')==True])>0):\n",
    "        x=x.str.replace(r'Angel Round',\"Angel\")\n",
    "    #Private Equity\n",
    "    if(len(y[x.str.contains(r'PrivateEquity')==True])>0):\n",
    "        x=x.str.replace(r'PrivateEquity',\"Private Equity\")\n",
    "    if(len(y[x.str.contains(r'Private Funding')==True])>0):\n",
    "        x=x.str.replace(r'Private Funding',\"Private Equity\")\n",
    "    if(len(y[x.str.contains(r'Private\\\\\\\\nEquity')==True])>0):\n",
    "        x=x.str.replace(r'Private\\\\\\\\nEquity',\"Private Equity\")\n",
    "    if(len(y[x.str.contains(r'Private Equity Round')==True])>0):\n",
    "        x=x.str.replace(r'Private Equity Round',\"Private Equity\")\n",
    "    return x\n",
    "data['Investment_Type']=correct_funding(data['Investment_Type'],data)"
   ]
  },
  {
   "cell_type": "code",
   "execution_count": null,
   "id": "178b1b8f",
   "metadata": {
    "execution": {
     "iopub.execute_input": "2022-10-12T13:03:15.139235Z",
     "iopub.status.busy": "2022-10-12T13:03:15.137869Z",
     "iopub.status.idle": "2022-10-12T13:03:16.169121Z",
     "shell.execute_reply": "2022-10-12T13:03:16.167824Z",
     "shell.execute_reply.started": "2022-10-12T13:03:15.139178Z"
    },
    "papermill": {
     "duration": null,
     "end_time": null,
     "exception": null,
     "start_time": null,
     "status": "pending"
    },
    "tags": []
   },
   "outputs": [],
   "source": [
    "data['Date'][data['Date']=='12/05.2015'] = '12/05/2015'\n",
    "data['Date'][data['Date']=='13/04.2015'] = '13/04/2015'\n",
    "data['Date'][data['Date']=='15/01.2015'] = '15/01/2015'\n",
    "data['Date'][data['Date']=='22/01//2015'] = '22/01/2015'\n",
    "data[\"yearmonth\"] = (pd.to_datetime(data['Date'],format='%d/%m/%Y').dt.year*100)+(pd.to_datetime(data['Date'],format='%d/%m/%Y').dt.month)\n",
    "temp = data['yearmonth'].value_counts().sort_values(ascending = False).head(10)\n",
    "print(\"Number of funding per month in decreasing order(Top 10)\\n\",temp)\n",
    "data['year_month'] = data['yearmonth'].value_counts()\n",
    "plt.figure(figsize=(15,8))\n",
    "sns.barplot(year_month.index, year_month.values, alpha=0.9)\n",
    "plt.xticks(rotation='vertical')\n",
    "plt.xlabel('Year-Month of transaction', fontsize=12)\n",
    "plt.ylabel('Number of fundings made', fontsize=12)\n",
    "plt.title(\"Year-Month Distribution\", fontsize=16)\n",
    "plt.show()"
   ]
  },
  {
   "cell_type": "code",
   "execution_count": null,
   "id": "13291062",
   "metadata": {
    "execution": {
     "iopub.execute_input": "2022-10-12T13:13:42.884693Z",
     "iopub.status.busy": "2022-10-12T13:13:42.884211Z",
     "iopub.status.idle": "2022-10-12T13:14:14.647923Z",
     "shell.execute_reply": "2022-10-12T13:14:14.646948Z",
     "shell.execute_reply.started": "2022-10-12T13:13:42.884657Z"
    },
    "papermill": {
     "duration": null,
     "end_time": null,
     "exception": null,
     "start_time": null,
     "status": "pending"
    },
    "tags": []
   },
   "outputs": [],
   "source": [
    "plt.plot(data['Date'],data['Name'])\n",
    "plt.xlabel('Year')\n",
    "plt.ylabel('No. of Startups')\n",
    "plt.title('Number of Startups in the country over the years')\n",
    "plt.rcParams['figure.figsize'] = (8, 4)"
   ]
  },
  {
   "cell_type": "code",
   "execution_count": null,
   "id": "bd7b60c9",
   "metadata": {
    "execution": {
     "iopub.execute_input": "2022-10-12T13:14:31.412433Z",
     "iopub.status.busy": "2022-10-12T13:14:31.411916Z",
     "iopub.status.idle": "2022-10-12T13:14:31.648330Z",
     "shell.execute_reply": "2022-10-12T13:14:31.647093Z",
     "shell.execute_reply.started": "2022-10-12T13:14:31.412393Z"
    },
    "papermill": {
     "duration": null,
     "end_time": null,
     "exception": null,
     "start_time": null,
     "status": "pending"
    },
    "tags": []
   },
   "outputs": [],
   "source": [
    "sns.countplot(data['Date'].dt.year)\n",
    "plt.xlabel('Year')\n",
    "plt.ylabel('No. of Startups Funded')\n",
    "plt.title('No of Startups Funded Over the Years')\n",
    "plt.rcParams['figure.figsize'] = (10, 8)"
   ]
  },
  {
   "cell_type": "code",
   "execution_count": null,
   "id": "b85a1ea4",
   "metadata": {
    "execution": {
     "iopub.execute_input": "2022-10-12T13:36:50.108590Z",
     "iopub.status.busy": "2022-10-12T13:36:50.108179Z",
     "iopub.status.idle": "2022-10-12T13:36:50.171584Z",
     "shell.execute_reply": "2022-10-12T13:36:50.170062Z",
     "shell.execute_reply.started": "2022-10-12T13:36:50.108558Z"
    },
    "papermill": {
     "duration": null,
     "end_time": null,
     "exception": null,
     "start_time": null,
     "status": "pending"
    },
    "tags": []
   },
   "outputs": [],
   "source": [
    "invest_amount=list(data.groupby(data['Investment_Type']).sum()['Amount_in_USD'])[:10]\n",
    "typeof_invest = data['Investment_Type'].value_counts()[:10].index\n",
    "plt.bar(typeof_invest,invest_amount)\n",
    "plt.xlabel('Type of Investment')\n",
    "plt.ylabel('Investment Amount in Billions')\n",
    "plt.title('Type of investment vs Amount invested')\n",
    "plt.rcParams['figure.figsize'] = (22, 10)"
   ]
  },
  {
   "cell_type": "code",
   "execution_count": null,
   "id": "d74f6a62",
   "metadata": {
    "execution": {
     "iopub.execute_input": "2022-10-12T13:36:00.001292Z",
     "iopub.status.busy": "2022-10-12T13:36:00.000860Z",
     "iopub.status.idle": "2022-10-12T13:36:00.021839Z",
     "shell.execute_reply": "2022-10-12T13:36:00.020339Z",
     "shell.execute_reply.started": "2022-10-12T13:36:00.001257Z"
    },
    "papermill": {
     "duration": null,
     "end_time": null,
     "exception": null,
     "start_time": null,
     "status": "pending"
    },
    "tags": []
   },
   "outputs": [],
   "source": [
    "fig1 = go.Figure(\n",
    "    data=go.Pie(values=data['Industry'].value_counts()[:10].values,labels=data['Industry'].value_counts()[:10].index))\n",
    "fig1.show()"
   ]
  },
  {
   "cell_type": "code",
   "execution_count": null,
   "id": "f2d680d5",
   "metadata": {
    "execution": {
     "iopub.execute_input": "2022-10-12T13:24:53.656657Z",
     "iopub.status.busy": "2022-10-12T13:24:53.655227Z",
     "iopub.status.idle": "2022-10-12T13:24:53.960880Z",
     "shell.execute_reply": "2022-10-12T13:24:53.959376Z",
     "shell.execute_reply.started": "2022-10-12T13:24:53.656614Z"
    },
    "papermill": {
     "duration": null,
     "end_time": null,
     "exception": null,
     "start_time": null,
     "status": "pending"
    },
    "tags": []
   },
   "outputs": [],
   "source": [
    "industry_vertical = data['Industry'].value_counts().head(10)\n",
    "print(industry_vertical)\n",
    "plt.figure(figsize=(15,8))\n",
    "sns.barplot(industry_vertical.index, industry_vertical.values, alpha=0.9, color='red')\n",
    "plt.xticks(rotation='vertical')\n",
    "plt.xlabel('Industry vertical of startups', fontsize=12)\n",
    "plt.ylabel('Number of fundings made', fontsize=12)\n",
    "plt.title(\"Industry vertical of startups with number of funding\", fontsize=16)\n",
    "plt.show()"
   ]
  },
  {
   "cell_type": "code",
   "execution_count": null,
   "id": "1745184c",
   "metadata": {
    "execution": {
     "iopub.execute_input": "2022-10-12T13:28:01.087678Z",
     "iopub.status.busy": "2022-10-12T13:28:01.087083Z",
     "iopub.status.idle": "2022-10-12T13:28:01.387759Z",
     "shell.execute_reply": "2022-10-12T13:28:01.386536Z",
     "shell.execute_reply.started": "2022-10-12T13:28:01.087643Z"
    },
    "papermill": {
     "duration": null,
     "end_time": null,
     "exception": null,
     "start_time": null,
     "status": "pending"
    },
    "tags": []
   },
   "outputs": [],
   "source": [
    "industry_data = data['Sub_Industry'].value_counts().head(10)\n",
    "print(industry_data)\n",
    "plt.figure(figsize=(15,8))\n",
    "sns.barplot(industry_data.index, industry_data.values, alpha=0.9, color='yellow')\n",
    "plt.xticks(rotation='vertical')\n",
    "plt.xlabel('Subvertical of startups', fontsize=12)\n",
    "plt.ylabel('Number of fundings made', fontsize=12)\n",
    "plt.title(\"Subvertical of startups with number of funding\", fontsize=16)\n",
    "plt.show()"
   ]
  },
  {
   "cell_type": "code",
   "execution_count": null,
   "id": "78949d8f",
   "metadata": {
    "execution": {
     "iopub.execute_input": "2022-10-12T13:29:00.774672Z",
     "iopub.status.busy": "2022-10-12T13:29:00.774226Z",
     "iopub.status.idle": "2022-10-12T13:29:01.077379Z",
     "shell.execute_reply": "2022-10-12T13:29:01.076293Z",
     "shell.execute_reply.started": "2022-10-12T13:29:00.774639Z"
    },
    "papermill": {
     "duration": null,
     "end_time": null,
     "exception": null,
     "start_time": null,
     "status": "pending"
    },
    "tags": []
   },
   "outputs": [],
   "source": [
    "city = data['Location'].value_counts().head(10)\n",
    "print(city)\n",
    "plt.figure(figsize=(15,8))\n",
    "sns.barplot(city.index, city.values, alpha=0.9, color='green')\n",
    "plt.xticks(rotation='vertical')\n",
    "plt.xlabel('city location of startups', fontsize=12)\n",
    "plt.ylabel('Number of fundings made', fontsize=12)\n",
    "plt.title(\"city location of startups with number of funding\", fontsize=16)\n",
    "plt.show()"
   ]
  },
  {
   "cell_type": "code",
   "execution_count": null,
   "id": "64bdaa29",
   "metadata": {
    "execution": {
     "iopub.execute_input": "2022-10-12T13:32:48.426084Z",
     "iopub.status.busy": "2022-10-12T13:32:48.425658Z",
     "iopub.status.idle": "2022-10-12T13:32:49.536785Z",
     "shell.execute_reply": "2022-10-12T13:32:49.535611Z",
     "shell.execute_reply.started": "2022-10-12T13:32:48.426052Z"
    },
    "papermill": {
     "duration": null,
     "end_time": null,
     "exception": null,
     "start_time": null,
     "status": "pending"
    },
    "tags": []
   },
   "outputs": [],
   "source": [
    "plt.figure(figsize=(15,8))\n",
    "count = data['Location'].value_counts()\n",
    "squarify.plot(sizes=count.values,label=count.index, value=count.values)\n",
    "plt.title('Distribution of Startups across Top cities')"
   ]
  }
 ],
 "metadata": {
  "kernelspec": {
   "display_name": "Python 3",
   "language": "python",
   "name": "python3"
  },
  "language_info": {
   "codemirror_mode": {
    "name": "ipython",
    "version": 3
   },
   "file_extension": ".py",
   "mimetype": "text/x-python",
   "name": "python",
   "nbconvert_exporter": "python",
   "pygments_lexer": "ipython3",
   "version": "3.7.12"
  },
  "papermill": {
   "default_parameters": {},
   "duration": 14.174074,
   "end_time": "2022-10-12T13:38:19.244437",
   "environment_variables": {},
   "exception": true,
   "input_path": "__notebook__.ipynb",
   "output_path": "__notebook__.ipynb",
   "parameters": {},
   "start_time": "2022-10-12T13:38:05.070363",
   "version": "2.3.4"
  }
 },
 "nbformat": 4,
 "nbformat_minor": 5
}
